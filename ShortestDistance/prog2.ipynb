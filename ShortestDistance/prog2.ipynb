{
 "cells": [
  {
   "cell_type": "code",
   "execution_count": 2,
   "id": "e62e4d53",
   "metadata": {},
   "outputs": [
    {
     "name": "stdout",
     "output_type": "stream",
     "text": [
      "Number of arguments passed (including your script name): 3\n",
      "\n",
      "Script name: C:\\Users\\yaser\\anaconda3\\lib\\site-packages\\ipykernel_launcher.py\n",
      "\n",
      "INITIAL state: -f\n",
      "\n",
      "GOAL state: C:\\Users\\yaser\\AppData\\Roaming\\jupyter\\runtime\\kernel-2bdf9633-3516-4b62-96ad-301c1c24aa91.json\n",
      "hello\n"
     ]
    }
   ],
   "source": [
    "import sys\n",
    "\n",
    "\n",
    "\"\"\"class Node:\n",
    "    def __init__(self, state, parent, pathCost, heuristics, algorithm):\n",
    "        self.STATE = state\n",
    "        self.PARENT = parent\n",
    "        self.PATHCOST = pathCost\n",
    "        self.HEURISTICS = heuristics\n",
    "        if algorithm == 'GBFS':\n",
    "            self.EVAL = self.HEURISTICS\n",
    "        elif algorithm == 'ASTAR':\n",
    "            self.EVAL = self.PATHCOST + self.HEURISTICS\n",
    "        \n",
    "    def getState(self):\n",
    "        return self.STATE\n",
    "        \n",
    "    def getParent(self):\n",
    "        return self.PARENT\n",
    "\n",
    "    def getPathCost(self):\n",
    "        return self.PATHCOST\n",
    "        \n",
    "    def getHeuristics(self):\n",
    "        return self.HEURISTICS\n",
    "      \n",
    "    def getEval(self):\n",
    "        return self.EVAL\n",
    "      \n",
    "    def __lt__(self, other):\n",
    "        return self.getEval() < other.getEval()\n",
    "        \n",
    "    def __str__(self):\n",
    "        return self.STATE\n",
    "        \n",
    "    def __repr__(self):\n",
    "        return str(self)    \n",
    "\"\"\"\n",
    "class main:\n",
    "    numberOfArgumentsPassedFromCommandLine = len(sys.argv)\n",
    "    print(\"Number of arguments passed (including your script name):\", numberOfArgumentsPassedFromCommandLine)\n",
    "\n",
    "  \n",
    "    firstArgument = sys.argv[0]\n",
    "    print(\"\\nScript name:\", sys.argv[0])\n",
    "\n",
    "    secondArgument = sys.argv[1]\n",
    "    print(\"\\nINITIAL state:\", secondArgument)\n",
    "\n",
    "    thirdArgument = sys.argv[2]\n",
    "    print(\"\\nGOAL state:\", thirdArgument)\n",
    "    \n",
    "    print(\"hello\")\n",
    "\n",
    "  "
   ]
  }
 ],
 "metadata": {
  "kernelspec": {
   "display_name": "Python 3 (ipykernel)",
   "language": "python",
   "name": "python3"
  },
  "language_info": {
   "codemirror_mode": {
    "name": "ipython",
    "version": 3
   },
   "file_extension": ".py",
   "mimetype": "text/x-python",
   "name": "python",
   "nbconvert_exporter": "python",
   "pygments_lexer": "ipython3",
   "version": "3.9.13"
  }
 },
 "nbformat": 4,
 "nbformat_minor": 5
}
